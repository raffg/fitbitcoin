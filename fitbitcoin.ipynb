{
 "cells": [
  {
   "cell_type": "code",
   "execution_count": 1,
   "metadata": {},
   "outputs": [],
   "source": [
    "import hashlib as hasher\n",
    "import datetime as date\n",
    "from flask import Flask\n",
    "from flask import request"
   ]
  },
  {
   "cell_type": "code",
   "execution_count": 2,
   "metadata": {},
   "outputs": [],
   "source": [
    "class Block:\n",
    "      def __init__(self, index, timestamp, data, previous_hash):\n",
    "            self.index = index\n",
    "            self.timestamp = timestamp\n",
    "            self.data = data\n",
    "            self.previous_hash = previous_hash\n",
    "            self.hash = self.hash_block()\n",
    "  \n",
    "      def hash_block(self):\n",
    "            sha = hasher.sha256()\n",
    "            sha.update((str(self.index) + \n",
    "                        str(self.timestamp) + \n",
    "                        str(self.data) + \n",
    "                        str(self.previous_hash)).encode('utf-8'))\n",
    "            return sha.hexdigest()"
   ]
  },
  {
   "cell_type": "code",
   "execution_count": 3,
   "metadata": {},
   "outputs": [],
   "source": [
    "def create_genesis_block():\n",
    "    # Manually construct a block with\n",
    "    # index zero and arbitrary previous hash\n",
    "    return Block(0, date.datetime.now(), \"Genesis Block\", \"0\")"
   ]
  },
  {
   "cell_type": "code",
   "execution_count": 4,
   "metadata": {},
   "outputs": [],
   "source": [
    "def next_block(last_block):\n",
    "    this_index = last_block.index + 1\n",
    "    this_timestamp = date.datetime.now()\n",
    "    this_data = \"Hey! I'm block \" + str(this_index)\n",
    "    this_hash = last_block.hash\n",
    "    return Block(this_index, this_timestamp, this_data, this_hash)"
   ]
  },
  {
   "cell_type": "code",
   "execution_count": 5,
   "metadata": {},
   "outputs": [
    {
     "name": "stdout",
     "output_type": "stream",
     "text": [
      "Block #1 has been added to the blockchain!\n",
      "Hash: d89e0410f2e45582c54255f38f5194a000aba9a9d98b3c2ecd1b1a979c3a74b3\n",
      "\n",
      "Block #2 has been added to the blockchain!\n",
      "Hash: 63ae6017d241989460069714a370a80401b670c637f0436ef26ea7cec8ad371a\n",
      "\n",
      "Block #3 has been added to the blockchain!\n",
      "Hash: 9db11e943a03d52f3d5132d976f266f9e49abd38c9fac6dbfece7d64c6d711bf\n",
      "\n",
      "Block #4 has been added to the blockchain!\n",
      "Hash: a41399624b84076e1a95edaa6b19b827941e4613a5d41de4560707608dbcab9e\n",
      "\n",
      "Block #5 has been added to the blockchain!\n",
      "Hash: f326f4f3cec2207cbdd9bf0350c758b6dbab266e8841c3a8d26af4adf7d3ba38\n",
      "\n",
      "Block #6 has been added to the blockchain!\n",
      "Hash: 02cab432f4ee7e14a0facaf150770dd209c02b538c4a2140603e7ee2bdd2b21a\n",
      "\n",
      "Block #7 has been added to the blockchain!\n",
      "Hash: 0ea1637d5230fc91857936bfe9c0f6c51da50c71c1bde2d6181f480c3e0f9677\n",
      "\n",
      "Block #8 has been added to the blockchain!\n",
      "Hash: 0c763d73d9de2dcdfb206c3a7a0a0900e1042a2f8cfc76e551338fc24c13a192\n",
      "\n",
      "Block #9 has been added to the blockchain!\n",
      "Hash: ef377024eb88bf079160c69bbed210cc0fc72728e1e5f5cbd331c91515c99f7f\n",
      "\n",
      "Block #10 has been added to the blockchain!\n",
      "Hash: df1778932786dd11f352f007938b23dd30f15037c95e02f54e26e4bf6ba5fae7\n",
      "\n",
      "Block #11 has been added to the blockchain!\n",
      "Hash: e305c9f28568bdeaea357cb45a2040735a281371adf499a8193c9a85d181afd7\n",
      "\n",
      "Block #12 has been added to the blockchain!\n",
      "Hash: 9567efbf8fb9c54bf45a5f03a17ba50fc264fc0f17d5d28bbdcf739b21577911\n",
      "\n",
      "Block #13 has been added to the blockchain!\n",
      "Hash: c37c6928897340cc2d07e344c797645585b07a7a1b480a5f5624deec98cd36ec\n",
      "\n",
      "Block #14 has been added to the blockchain!\n",
      "Hash: 0c475274a6fb61e599599dfaf26f491175f93de65995be4611864a7baed22c6b\n",
      "\n",
      "Block #15 has been added to the blockchain!\n",
      "Hash: f0768ba2603ad568e28b75eda5bfcfab868c55d49ed535ba1efa65a20a779bd5\n",
      "\n",
      "Block #16 has been added to the blockchain!\n",
      "Hash: 97da9e44d53d736f59d326b7e56d02a09b84ec1c0a0e9a50aa8d11158e9f536a\n",
      "\n",
      "Block #17 has been added to the blockchain!\n",
      "Hash: d9272c72844015c0f9764514a5e0a399a461e1c6cc334ed79b006e087df7f541\n",
      "\n",
      "Block #18 has been added to the blockchain!\n",
      "Hash: 9eb385aaf8c4f321f5e1a5d33522ad4dc40f7ee5d042834919234ee21e02df06\n",
      "\n",
      "Block #19 has been added to the blockchain!\n",
      "Hash: f8b43790a1a346fd0f622a2f743ee05bdf850dd48cd6a9507374111e278b270b\n",
      "\n",
      "Block #20 has been added to the blockchain!\n",
      "Hash: 87dd7e4aa4ac8343474db0230106ecaac4d899d302364a3190eeb682a1bbd0e7\n",
      "\n"
     ]
    }
   ],
   "source": [
    "# Create the blockchain and add the genesis block\n",
    "blockchain = [create_genesis_block()]\n",
    "previous_block = blockchain[0]\n",
    "\n",
    "# How many blocks should we add to the chain\n",
    "# after the genesis block\n",
    "num_of_blocks_to_add = 20\n",
    "\n",
    "# Add blocks to the chain\n",
    "for i in range(0, num_of_blocks_to_add):\n",
    "    block_to_add = next_block(previous_block)\n",
    "    blockchain.append(block_to_add)\n",
    "    previous_block = block_to_add\n",
    "    # Tell everyone about it!\n",
    "    print(\"Block #{} has been added to the blockchain!\".format(block_to_add.index))\n",
    "    print(\"Hash: {}\\n\".format(block_to_add.hash))"
   ]
  },
  {
   "cell_type": "code",
   "execution_count": null,
   "metadata": {},
   "outputs": [],
   "source": [
    "node = Flask(__name__)\n",
    "\n",
    "# Store the transactions that\n",
    "# this node has in a list\n",
    "this_nodes_transactions = []\n",
    "\n",
    "@node.route('/txion', methods=['POST'])\n",
    "def transaction():\n",
    "    if request.method == 'POST':\n",
    "        # On each new POST request,\n",
    "        # we extract the transaction data\n",
    "        new_txion = request.get_json()\n",
    "        # Then we add the transaction to our list\n",
    "        this_nodes_transactions.append(new_txion)\n",
    "        # Because the transaction was successfully\n",
    "        # submitted, we log it to our console\n",
    "        print(\"New transaction\")\n",
    "        print(\"FROM: {}\".format(new_txion['from']))\n",
    "        print(\"TO: {}\".format(new_txion['to']))\n",
    "        print(\"AMOUNT: {}\\n\".format(new_txion['amount']))\n",
    "        # Then we let the client know it worked out\n",
    "        return \"Transaction submission successful\\n\"\n",
    "\n",
    "node.run()"
   ]
  },
  {
   "cell_type": "code",
   "execution_count": null,
   "metadata": {},
   "outputs": [],
   "source": [
    "node = Flask(__name__)\n",
    "\n",
    "# Store the transactions that\n",
    "# this node has in a list\n",
    "this_nodes_transactions = []\n",
    "\n",
    "@node.route('/txion', methods=['POST'])\n",
    "def transaction():\n",
    "    if request.method == 'POST':\n",
    "        # On each new POST request,\n",
    "        # we extract the transaction data\n",
    "        new_txion = request.get_json()\n",
    "        # Then we add the transaction to our list\n",
    "        this_nodes_transactions.append(new_txion)\n",
    "        # Because the transaction was successfully\n",
    "        # submitted, we log it to our console\n",
    "        print(\"New transaction\")\n",
    "        print(\"FROM: {}\".format(new_txion['from']))\n",
    "        print(\"TO: {}\".format(new_txion['to']))\n",
    "        print(\"AMOUNT: {}\\n\".format(new_txion['amount']))\n",
    "        # Then we let the client know it worked out\n",
    "        return \"Transaction submission successful\\n\"\n",
    "\n",
    "node.run()"
   ]
  },
  {
   "cell_type": "code",
   "execution_count": 6,
   "metadata": {},
   "outputs": [
    {
     "ename": "NameError",
     "evalue": "name 'node' is not defined",
     "output_type": "error",
     "traceback": [
      "\u001b[0;31m---------------------------------------------------------------------------\u001b[0m",
      "\u001b[0;31mNameError\u001b[0m                                 Traceback (most recent call last)",
      "\u001b[0;32m<ipython-input-6-4ca02525d536>\u001b[0m in \u001b[0;36m<module>\u001b[0;34m()\u001b[0m\n\u001b[0;32m----> 1\u001b[0;31m \u001b[0;34m@\u001b[0m\u001b[0mnode\u001b[0m\u001b[0;34m.\u001b[0m\u001b[0mroute\u001b[0m\u001b[0;34m(\u001b[0m\u001b[0;34m'/mine'\u001b[0m\u001b[0;34m,\u001b[0m \u001b[0mmethods\u001b[0m \u001b[0;34m=\u001b[0m \u001b[0;34m[\u001b[0m\u001b[0;34m'GET'\u001b[0m\u001b[0;34m]\u001b[0m\u001b[0;34m)\u001b[0m\u001b[0;34m\u001b[0m\u001b[0m\n\u001b[0m\u001b[1;32m      2\u001b[0m \u001b[0;32mdef\u001b[0m \u001b[0mmine\u001b[0m\u001b[0;34m(\u001b[0m\u001b[0;34m)\u001b[0m\u001b[0;34m:\u001b[0m\u001b[0;34m\u001b[0m\u001b[0m\n\u001b[1;32m      3\u001b[0m     \u001b[0;31m# Get the last proof of work\u001b[0m\u001b[0;34m\u001b[0m\u001b[0;34m\u001b[0m\u001b[0m\n\u001b[1;32m      4\u001b[0m     \u001b[0mlast_block\u001b[0m \u001b[0;34m=\u001b[0m \u001b[0mblockchain\u001b[0m\u001b[0;34m[\u001b[0m\u001b[0mlen\u001b[0m\u001b[0;34m(\u001b[0m\u001b[0mblockchain\u001b[0m\u001b[0;34m)\u001b[0m \u001b[0;34m-\u001b[0m \u001b[0;36m1\u001b[0m\u001b[0;34m]\u001b[0m\u001b[0;34m\u001b[0m\u001b[0m\n\u001b[1;32m      5\u001b[0m     \u001b[0mlast_proof\u001b[0m \u001b[0;34m=\u001b[0m \u001b[0mlast_block\u001b[0m\u001b[0;34m.\u001b[0m\u001b[0mdata\u001b[0m\u001b[0;34m[\u001b[0m\u001b[0;34m'proof-of-work'\u001b[0m\u001b[0;34m]\u001b[0m\u001b[0;34m\u001b[0m\u001b[0m\n",
      "\u001b[0;31mNameError\u001b[0m: name 'node' is not defined"
     ]
    }
   ],
   "source": [
    "@node.route('/mine', methods = ['GET'])\n",
    "def mine():\n",
    "    # Get the last proof of work\n",
    "    last_block = blockchain[len(blockchain) - 1]\n",
    "    last_proof = last_block.data['proof-of-work']\n",
    "    # Find the proof of work for\n",
    "    # the current block being mined\n",
    "    # Note: The program will hang here until a new\n",
    "    #       proof of work is found\n",
    "    proof = proof_of_work(last_proof)\n",
    "    # Once we find a valid proof of work,\n",
    "    # we know we can mine a block so \n",
    "    # we reward the miner by adding a transaction\n",
    "    this_nodes_transactions.append({\"from\": \"network\",\n",
    "                                    \"to\": miner_address,\n",
    "                                    \"amount\": 1 })\n",
    "    # Now we can gather the data needed\n",
    "    # to create the new block\n",
    "    new_block_data = {\"proof-of-work\": proof,\n",
    "                      \"transactions\": list(this_nodes_transactions)}\n",
    "    new_block_index = last_block.index + 1\n",
    "    new_block_timestamp = this_timestamp = date.datetime.now()\n",
    "    last_block_hash = last_block.hash\n",
    "    # Empty transaction list\n",
    "    this_nodes_transactions[:] = []\n",
    "    # Now create the\n",
    "    # new block!\n",
    "    mined_block = Block(new_block_index,\n",
    "                        new_block_timestamp,\n",
    "                        new_block_data,\n",
    "                        last_block_hash)\n",
    "    blockchain.append(mined_block)\n",
    "    # Let the client know we mined a block\n",
    "    return json.dumps({\"index\": new_block_index,\n",
    "                       \"timestamp\": str(new_block_timestamp),\n",
    "                       \"data\": new_block_data,\n",
    "                       \"hash\": last_block_hash}) + \"\\n\""
   ]
  },
  {
   "cell_type": "code",
   "execution_count": 7,
   "metadata": {},
   "outputs": [
    {
     "ename": "NameError",
     "evalue": "name 'node' is not defined",
     "output_type": "error",
     "traceback": [
      "\u001b[0;31m---------------------------------------------------------------------------\u001b[0m",
      "\u001b[0;31mNameError\u001b[0m                                 Traceback (most recent call last)",
      "\u001b[0;32m<ipython-input-7-ecfc061e3423>\u001b[0m in \u001b[0;36m<module>\u001b[0;34m()\u001b[0m\n\u001b[0;32m----> 1\u001b[0;31m \u001b[0;34m@\u001b[0m\u001b[0mnode\u001b[0m\u001b[0;34m.\u001b[0m\u001b[0mroute\u001b[0m\u001b[0;34m(\u001b[0m\u001b[0;34m'/blocks'\u001b[0m\u001b[0;34m,\u001b[0m \u001b[0mmethods\u001b[0m\u001b[0;34m=\u001b[0m\u001b[0;34m[\u001b[0m\u001b[0;34m'GET'\u001b[0m\u001b[0;34m]\u001b[0m\u001b[0;34m)\u001b[0m\u001b[0;34m\u001b[0m\u001b[0m\n\u001b[0m\u001b[1;32m      2\u001b[0m \u001b[0;32mdef\u001b[0m \u001b[0mget_blocks\u001b[0m\u001b[0;34m(\u001b[0m\u001b[0;34m)\u001b[0m\u001b[0;34m:\u001b[0m\u001b[0;34m\u001b[0m\u001b[0m\n\u001b[1;32m      3\u001b[0m     \u001b[0mchain_to_send\u001b[0m \u001b[0;34m=\u001b[0m \u001b[0mblockchain\u001b[0m\u001b[0;34m\u001b[0m\u001b[0m\n\u001b[1;32m      4\u001b[0m     \u001b[0;31m# Convert our blocks into dictionaries\u001b[0m\u001b[0;34m\u001b[0m\u001b[0;34m\u001b[0m\u001b[0m\n\u001b[1;32m      5\u001b[0m     \u001b[0;31m# so we can send them as json objects later\u001b[0m\u001b[0;34m\u001b[0m\u001b[0;34m\u001b[0m\u001b[0m\n",
      "\u001b[0;31mNameError\u001b[0m: name 'node' is not defined"
     ]
    }
   ],
   "source": [
    "@node.route('/blocks', methods=['GET'])\n",
    "def get_blocks():\n",
    "    chain_to_send = blockchain\n",
    "    # Convert our blocks into dictionaries\n",
    "    # so we can send them as json objects later\n",
    "    for block in chain_to_send:\n",
    "        block_index = str(block.index)\n",
    "        block_timestamp = str(block.timestamp)\n",
    "        block_data = str(block.data)\n",
    "        block_hash = block.hash\n",
    "        block = {\"index\": block_index,\n",
    "                 \"timestamp\": block_timestamp,\n",
    "                 \"data\": block_data,\n",
    "                 \"hash\": block_hash}\n",
    "    # Send our chain to whomever requested it\n",
    "    chain_to_send = json.dumps(chain_to_send)\n",
    "    return chain_to_send"
   ]
  },
  {
   "cell_type": "code",
   "execution_count": null,
   "metadata": {},
   "outputs": [],
   "source": [
    "def find_new_chains():\n",
    "    # Get the blockchains of every\n",
    "    # other node\n",
    "    other_chains = []\n",
    "    for node_url in peer_nodes:\n",
    "        # Get their chains using a GET request\n",
    "        block = requests.get(node_url + \"/blocks\").content\n",
    "        # Convert the JSON object to a Python dictionary\n",
    "        block = json.loads(block)\n",
    "        # Add it to our list\n",
    "        other_chains.append(block)\n",
    "    return other_chains"
   ]
  },
  {
   "cell_type": "code",
   "execution_count": null,
   "metadata": {},
   "outputs": [],
   "source": [
    "def consensus():\n",
    "    # Get the blocks from other nodes\n",
    "    other_chains = find_new_chains()\n",
    "    # If our chain isn't longest,\n",
    "    # then we store the longest chain\n",
    "    longest_chain = blockchain\n",
    "    for chain in other_chains:\n",
    "        if len(longest_chain) < len(chain):\n",
    "            longest_chain = chain\n",
    "    # If the longest chain wasn't ours,\n",
    "    # then we set our chain to the longest\n",
    "    blockchain = longest_chain"
   ]
  },
  {
   "cell_type": "code",
   "execution_count": null,
   "metadata": {},
   "outputs": [],
   "source": []
  },
  {
   "cell_type": "code",
   "execution_count": null,
   "metadata": {},
   "outputs": [],
   "source": []
  },
  {
   "cell_type": "code",
   "execution_count": null,
   "metadata": {},
   "outputs": [],
   "source": []
  }
 ],
 "metadata": {
  "kernelspec": {
   "display_name": "Python 3",
   "language": "python",
   "name": "python3"
  },
  "language_info": {
   "codemirror_mode": {
    "name": "ipython",
    "version": 3
   },
   "file_extension": ".py",
   "mimetype": "text/x-python",
   "name": "python",
   "nbconvert_exporter": "python",
   "pygments_lexer": "ipython3",
   "version": "3.6.4"
  }
 },
 "nbformat": 4,
 "nbformat_minor": 2
}
